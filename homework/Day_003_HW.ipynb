{
 "metadata": {
  "language_info": {
   "codemirror_mode": {
    "name": "ipython",
    "version": 3
   },
   "file_extension": ".py",
   "mimetype": "text/x-python",
   "name": "python",
   "nbconvert_exporter": "python",
   "pygments_lexer": "ipython3",
   "version": "3.8.5-final"
  },
  "orig_nbformat": 2,
  "kernelspec": {
   "name": "python3",
   "display_name": "Python 3.8.5 64-bit (conda)",
   "metadata": {
    "interpreter": {
     "hash": "6febc06a57043855631fb90045ad4360af6585994213092935f3a738b32d77c6"
    }
   }
  }
 },
 "nbformat": 4,
 "nbformat_minor": 2,
 "cells": [
  {
   "source": [
    "作業目標<br>\n",
    "在一個陣列中放入多屬性陣列，進一步對陣列做運算<br>\n",
    "作業重點<br>\n",
    "在建立結構化陣列前需要先設定屬性，在做運算時須注意資料屬性"
   ],
   "cell_type": "markdown",
   "metadata": {}
  },
  {
   "source": [
    "1.題目:<br>\n",
    "name_list = ['小明','小華','小菁','小美','小張','John','Mark','Tom']<br>\n",
    "sex_list = ['boy','boy','girl','girl','boy','boy','boy','boy']<br>\n",
    "weight_list = [67.5,75.3,50.1,45.5,80.8,90.4,78.4,70.7]<br>\n",
    "rank_list = [8,1,5,4,7,6,2,3]<br>\n",
    "myopia_list = [True,True,False,False,True,True,False,False]<br>\n",
    "1. 將上列list依照['name', 'sex', 'weight', 'rank', 'myopia']順序擺入array，並且資料型態順序擺入[Unicode,Unicode,float,int,boolean]<br>\n",
    "2. 呈上題，將array中體重(weight)數據集取出算出全部平均體重\n",
    "3. 呈上題，進一步算出男生(sex欄位是boy)平均體重、女生(sex欄位是girl)平均體重"
   ],
   "cell_type": "markdown",
   "metadata": {}
  },
  {
   "cell_type": "code",
   "execution_count": 8,
   "metadata": {},
   "outputs": [],
   "source": [
    "import numpy as np "
   ]
  },
  {
   "cell_type": "code",
   "execution_count": 9,
   "metadata": {},
   "outputs": [],
   "source": [
    "name_list = ['小明','小華','小菁','小美','小張','John','Mark','Tom']\n",
    "sex_list = ['boy','boy','girl','girl','boy','boy','boy','boy']\n",
    "weight_list = [67.5,75.3,50.1,45.5,80.8,90.4,78.4,70.7]\n",
    "rank_list = [8,1,5,4,7,6,2,3]\n",
    "myopia_list = [True,True,False,False,True,True,False,False]"
   ]
  },
  {
   "cell_type": "code",
   "execution_count": 10,
   "metadata": {},
   "outputs": [],
   "source": [
    "#(1). 將上列list依照['name', 'sex', 'weight', 'rank', 'myopia']順序擺入array，並且資料型態順序擺入[Unicode,Unicode,float,int,boolean]\n",
    "student_type = {'names':('name', 'sex', 'weight', 'rank', 'myopia'), 'formats':('U10','U6','f8','i4','?')}\n",
    "students = np.zeros(8,dtype=student_type)\n",
    "students['name'] = name_list\n",
    "students['sex'] = sex_list\n",
    "students['weight'] = weight_list\n",
    "students['rank'] = rank_list\n",
    "students['myopia'] = myopia_list"
   ]
  },
  {
   "cell_type": "code",
   "execution_count": 11,
   "metadata": {},
   "outputs": [
    {
     "output_type": "execute_result",
     "data": {
      "text/plain": [
       "69.8375"
      ]
     },
     "metadata": {},
     "execution_count": 11
    }
   ],
   "source": [
    "#(2). 呈上題，將array中體重(weight)數據集取出算出全部平均體重\n",
    "np.mean(students['weight'])"
   ]
  },
  {
   "cell_type": "code",
   "execution_count": 12,
   "metadata": {},
   "outputs": [
    {
     "output_type": "execute_result",
     "data": {
      "text/plain": [
       "77.18333333333332"
      ]
     },
     "metadata": {},
     "execution_count": 12
    }
   ],
   "source": [
    "#(3). 呈上題，進一步算出男生(sex欄位是boy)平均體重\n",
    "boy_index = np.where(students['sex']=='boy')[0]\n",
    "np.mean(students['weight'][boy_index])"
   ]
  },
  {
   "cell_type": "code",
   "execution_count": 13,
   "metadata": {},
   "outputs": [
    {
     "output_type": "execute_result",
     "data": {
      "text/plain": [
       "47.8"
      ]
     },
     "metadata": {},
     "execution_count": 13
    }
   ],
   "source": [
    "#(3). 呈上題，進一步算出女生(sex欄位是girl)平均體重\n",
    "girl_index = np.where(students['sex']=='girl')[0]\n",
    "np.mean(students['weight'][girl_index])"
   ]
  },
  {
   "source": [
    "2.請比較 np.zeros 和 np.empty 產生出來的陣列有何差異？為什麼要設計兩種方法？\n",
    "\n",
    "print(np.zeros((2, 3)))\n",
    "print(np.empty((2, 3)))"
   ],
   "cell_type": "markdown",
   "metadata": {}
  },
  {
   "source": [
    "np.zeros((2, 3)) 會產生真正的 0；np.empty((2, 3)) 會產生一個近似於 0 的陣列。\n",
    "np.empty 可以用於只是想要初始化，但之後就會數值覆寫過的形況。"
   ],
   "cell_type": "markdown",
   "metadata": {}
  },
  {
   "source": [
    "3. 在不用「整數亂數方法」的限制下，如何將包含小數的轉換整數？請將給定的 a 陣列當中的元素變成去掉小數變成整數。"
   ],
   "cell_type": "markdown",
   "metadata": {}
  },
  {
   "cell_type": "code",
   "execution_count": 14,
   "metadata": {},
   "outputs": [
    {
     "output_type": "stream",
     "name": "stdout",
     "text": [
      "[[22.36347336 34.87198087 10.55794931]\n [86.45438208 47.27964486 75.62177913]]\n"
     ]
    }
   ],
   "source": [
    "a = np.random.rand(2, 3)\n",
    "a = a * 100\n",
    "print(a)"
   ]
  },
  {
   "cell_type": "code",
   "execution_count": 15,
   "metadata": {},
   "outputs": [
    {
     "output_type": "stream",
     "name": "stdout",
     "text": [
      "[[22. 35. 11.]\n [86. 47. 76.]]\n[[22. 35. 11.]\n [86. 47. 76.]]\n"
     ]
    }
   ],
   "source": [
    "#Answer\n",
    "print(a.round())\n",
    "print(np.round(a))"
   ]
  },
  {
   "source": [
    "4. 承上題，怎樣可以限制整數的範圍介於 m - n 之間？請將給定的 a 陣列當中的元素的範圍調整成 m - n 之間。"
   ],
   "cell_type": "markdown",
   "metadata": {}
  },
  {
   "cell_type": "code",
   "execution_count": 16,
   "metadata": {},
   "outputs": [
    {
     "output_type": "stream",
     "name": "stdout",
     "text": [
      "[[24. 23. 25.]\n [30. 36. 36.]]\n"
     ]
    }
   ],
   "source": [
    "m = 20\n",
    "n = 40\n",
    "\n",
    "a = np.random.rand(2, 3) * (n - m)\n",
    "b = a\n",
    "\n",
    "print((a - b % 1) + m)"
   ]
  }
 ]
}