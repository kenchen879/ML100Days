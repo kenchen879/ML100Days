{
 "cells": [
  {
   "source": [
    "# [作業目標]\n",
    "\n",
    "1. 了解效能優化⽅法<br>\n",
    "2. 優化有很多⾯相可以切入，⽬前可以先以投影片⽅法為主"
   ],
   "cell_type": "markdown",
   "metadata": {
    "colab_type": "text",
    "id": "P6xk2_jLsvFF"
   }
  },
  {
   "source": [
    "# 作業 "
   ],
   "cell_type": "markdown",
   "metadata": {
    "colab_type": "text",
    "id": "uXGll28asvFS"
   }
  },
  {
   "source": [
    "1. 在速度較慢的時候，可以先從哪邊開始檢查？<br>\n",
    "2. 資料過⼤時應採取什麼⽅式讓記憶體占⽤量下降？"
   ],
   "cell_type": "markdown",
   "metadata": {}
  },
  {
   "source": [
    "### 1.在速度較慢的時候，可以先從哪邊開始檢查？"
   ],
   "cell_type": "markdown",
   "metadata": {
    "colab": {},
    "colab_type": "code",
    "id": "5QrYoyNWsvFS"
   }
  },
  {
   "source": [
    "先檢查有沒有使⽤到⾃訂義的函數，如果有可以查詢pandas中是否有<br>\n",
    "⽀援相關演算法，如果以上都沒辦法改善，那可以從資料讀取⽅式下⼿，將要<br>\n",
    "讀取的資料改成pkl檔"
   ],
   "cell_type": "markdown",
   "metadata": {}
  },
  {
   "source": [
    "### 2. 資料過⼤時應採取什麼⽅式讓記憶體占⽤量下降？"
   ],
   "cell_type": "markdown",
   "metadata": {}
  },
  {
   "source": [
    "將欄位中的型態降級"
   ],
   "cell_type": "markdown",
   "metadata": {
    "colab": {},
    "colab_type": "code",
    "id": "e1gVI0tvsvFY"
   }
  },
  {
   "cell_type": "markdown",
   "metadata": {},
   "source": [
    "### 3. 請建立一個長度等於 10 的正整數向量，並且將其中的最大值改成 -1。\n"
   ]
  }
 ],
 "metadata": {
  "colab": {
   "name": "Day_023_Reduce_Skewness_Ans.ipynb",
   "provenance": []
  },
  "kernelspec": {
   "display_name": "Python 3",
   "language": "python",
   "name": "python3"
  },
  "language_info": {
   "codemirror_mode": {
    "name": "ipython",
    "version": 3
   },
   "file_extension": ".py",
   "mimetype": "text/x-python",
   "name": "python",
   "nbconvert_exporter": "python",
   "pygments_lexer": "ipython3",
   "version": "3.6.5"
  }
 },
 "nbformat": 4,
 "nbformat_minor": 1
}