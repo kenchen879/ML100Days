{
  "nbformat": 4,
  "nbformat_minor": 0,
  "metadata": {
    "colab": {
      "name": "ABTestExercise_作業解答.ipynb",
      "provenance": [],
      "toc_visible": true
    },
    "kernelspec": {
      "name": "python3",
      "display_name": "Python 3",
      "language": "python"
    }
  },
  "cells": [
    {
      "cell_type": "markdown",
      "metadata": {
        "id": "CUUk4M9ESPiL"
      },
      "source": [
        "# **[作業]電商如何以A/B Test 驗證新網頁設計有效**\n",
        "## **Can eCommerce UX change boost the conversion rate from 0.13 to 0.15?**\n",
        "知識點:\n",
        "\n",
        "*   effect size\n",
        "*   sample size for A/B test \n",
        "*   type I error = 0.05 and Power= 0.8\n",
        "*   z-score, confidence interval\n",
        "\n",
        "參考：A/B testing: A step-by-step guide in Python by Renato Fillinich @ medium.com\n",
        "\n",
        "數據 : ab_data.csv from Kaggle"
      ]
    },
    {
      "cell_type": "markdown",
      "metadata": {
        "id": "_CFV1buAeAMz"
      },
      "source": [
        "# **[作業目標]**\n",
        "\n",
        "1.   了解Binomial分布，以及用常態分布求統計解的方法\n",
        "2.   判讀A/B Test 結果\n",
        "\n"
      ]
    },
    {
      "cell_type": "markdown",
      "metadata": {
        "id": "19cuAxsOeI3k"
      },
      "source": [
        "# **[作業重點]**\n",
        "\n",
        "\n",
        "\n",
        "1.   如何決定最小樣本數\n",
        "2.   如何以Z值，p-Value和信賴區間(Confidence Interval)判斷A/B結果是否顯著\n",
        "\n"
      ]
    },
    {
      "cell_type": "code",
      "metadata": {
        "colab": {
          "base_uri": "https://localhost:8080/"
        },
        "id": "b5pbmX1PCiUD",
        "outputId": "d05c1562-4a67-4966-e806-8c38dd234599"
      },
      "source": [
        "# Packages imports\n",
        "# \n",
        "import numpy as np\n",
        "import pandas as pd\n",
        "import scipy.stats as stats\n",
        "import statsmodels.stats.api as sms\n",
        "import matplotlib as mpl\n",
        "import matplotlib.pyplot as plt\n",
        "import seaborn as sns\n",
        "from math import ceil\n",
        "\n",
        "%matplotlib inline\n",
        "\n",
        "# Some plot styling preferences\n",
        "plt.style.use('seaborn-whitegrid')\n",
        "font = {'family' : 'Helvetica',\n",
        "        'weight' : 'bold',\n",
        "        'size'   : 14}\n",
        "\n",
        "mpl.rc('font', **font)\n",
        "\n",
        "#求樣本大小\n",
        "effect_size = sms.proportion_effectsize(0.12, 0.11)    # Calculating effect size based on our expected rates\n",
        "\n",
        "required_n = sms.NormalIndPower().solve_power(\n",
        "    effect_size, \n",
        "    power=0.8, \n",
        "    alpha=0.05, \n",
        "    ratio=1\n",
        "    )                                                  # Calculating sample size needed\n",
        "\n",
        "required_n = ceil(required_n)                          # Rounding up to next whole number                          \n",
        "\n",
        "print(required_n)"
      ],
      "execution_count": 7,
      "outputs": [
        {
          "output_type": "stream",
          "name": "stdout",
          "text": [
            "15970\n"
          ]
        }
      ]
    },
    {
      "cell_type": "code",
      "metadata": {
        "colab": {
          "base_uri": "https://localhost:8080/",
          "height": 198
        },
        "id": "NzCIP30MEIWw",
        "outputId": "b15e4328-457c-48db-c36d-ae4a180cd359"
      },
      "source": [
        "#展示實驗資料\n",
        "df = pd.read_csv('./sample_data/ab_data.csv')\n",
        "\n",
        "df.head()"
      ],
      "execution_count": 8,
      "outputs": [
        {
          "output_type": "execute_result",
          "data": {
            "text/plain": [
              "   user_id                   timestamp      group landing_page  converted\n",
              "0   851104  2017-01-21 22:11:48.556739    control     old_page          0\n",
              "1   804228  2017-01-12 08:01:45.159739    control     old_page          0\n",
              "2   661590  2017-01-11 16:55:06.154213  treatment     new_page          0\n",
              "3   853541  2017-01-08 18:28:03.143765  treatment     new_page          0\n",
              "4   864975  2017-01-21 01:52:26.210827    control     old_page          1"
            ],
            "text/html": "<div>\n<style scoped>\n    .dataframe tbody tr th:only-of-type {\n        vertical-align: middle;\n    }\n\n    .dataframe tbody tr th {\n        vertical-align: top;\n    }\n\n    .dataframe thead th {\n        text-align: right;\n    }\n</style>\n<table border=\"1\" class=\"dataframe\">\n  <thead>\n    <tr style=\"text-align: right;\">\n      <th></th>\n      <th>user_id</th>\n      <th>timestamp</th>\n      <th>group</th>\n      <th>landing_page</th>\n      <th>converted</th>\n    </tr>\n  </thead>\n  <tbody>\n    <tr>\n      <th>0</th>\n      <td>851104</td>\n      <td>2017-01-21 22:11:48.556739</td>\n      <td>control</td>\n      <td>old_page</td>\n      <td>0</td>\n    </tr>\n    <tr>\n      <th>1</th>\n      <td>804228</td>\n      <td>2017-01-12 08:01:45.159739</td>\n      <td>control</td>\n      <td>old_page</td>\n      <td>0</td>\n    </tr>\n    <tr>\n      <th>2</th>\n      <td>661590</td>\n      <td>2017-01-11 16:55:06.154213</td>\n      <td>treatment</td>\n      <td>new_page</td>\n      <td>0</td>\n    </tr>\n    <tr>\n      <th>3</th>\n      <td>853541</td>\n      <td>2017-01-08 18:28:03.143765</td>\n      <td>treatment</td>\n      <td>new_page</td>\n      <td>0</td>\n    </tr>\n    <tr>\n      <th>4</th>\n      <td>864975</td>\n      <td>2017-01-21 01:52:26.210827</td>\n      <td>control</td>\n      <td>old_page</td>\n      <td>1</td>\n    </tr>\n  </tbody>\n</table>\n</div>"
          },
          "metadata": {},
          "execution_count": 8
        }
      ]
    },
    {
      "cell_type": "code",
      "metadata": {
        "colab": {
          "base_uri": "https://localhost:8080/",
          "height": 345
        },
        "id": "i1FXBm0sEMz4",
        "outputId": "32ce4c49-e608-40de-e479-24001f52d08f"
      },
      "source": [
        "df.info()\n",
        "\n",
        "# To make sure all the control group are seeing the old page and viceversa\n",
        "# 用 crosstab 將 landing_page 當作 column，group 當作 row\n",
        "pd.crosstab(df['group'], df['landing_page'])"
      ],
      "execution_count": 9,
      "outputs": [
        {
          "output_type": "stream",
          "name": "stdout",
          "text": [
            "<class 'pandas.core.frame.DataFrame'>\nRangeIndex: 294478 entries, 0 to 294477\nData columns (total 5 columns):\n #   Column        Non-Null Count   Dtype \n---  ------        --------------   ----- \n 0   user_id       294478 non-null  int64 \n 1   timestamp     294478 non-null  object\n 2   group         294478 non-null  object\n 3   landing_page  294478 non-null  object\n 4   converted     294478 non-null  int64 \ndtypes: int64(2), object(3)\nmemory usage: 11.2+ MB\n"
          ]
        },
        {
          "output_type": "execute_result",
          "data": {
            "text/plain": [
              "landing_page  new_page  old_page\n",
              "group                           \n",
              "control           1928    145274\n",
              "treatment       145311      1965"
            ],
            "text/html": "<div>\n<style scoped>\n    .dataframe tbody tr th:only-of-type {\n        vertical-align: middle;\n    }\n\n    .dataframe tbody tr th {\n        vertical-align: top;\n    }\n\n    .dataframe thead th {\n        text-align: right;\n    }\n</style>\n<table border=\"1\" class=\"dataframe\">\n  <thead>\n    <tr style=\"text-align: right;\">\n      <th>landing_page</th>\n      <th>new_page</th>\n      <th>old_page</th>\n    </tr>\n    <tr>\n      <th>group</th>\n      <th></th>\n      <th></th>\n    </tr>\n  </thead>\n  <tbody>\n    <tr>\n      <th>control</th>\n      <td>1928</td>\n      <td>145274</td>\n    </tr>\n    <tr>\n      <th>treatment</th>\n      <td>145311</td>\n      <td>1965</td>\n    </tr>\n  </tbody>\n</table>\n</div>"
          },
          "metadata": {},
          "execution_count": 9
        }
      ]
    },
    {
      "cell_type": "code",
      "metadata": {
        "colab": {
          "base_uri": "https://localhost:8080/"
        },
        "id": "smK1d9OoEQ4c",
        "outputId": "de2d3035-056c-4011-fe8e-e03c6f20cc08"
      },
      "source": [
        "#偵測重複出現使用者\n",
        "session_counts = df['user_id'].value_counts(ascending=False)\n",
        "multi_users = session_counts[session_counts > 1].count()\n",
        "\n",
        "print(f'There are {multi_users} users that appear multiple times in the dataset')"
      ],
      "execution_count": 10,
      "outputs": [
        {
          "output_type": "stream",
          "name": "stdout",
          "text": [
            "There are 3894 users that appear multiple times in the dataset\n"
          ]
        }
      ]
    },
    {
      "cell_type": "code",
      "metadata": {
        "colab": {
          "base_uri": "https://localhost:8080/"
        },
        "id": "1Iu-jUPxEUFX",
        "outputId": "4bf86fb4-f8d2-4a80-a057-f06d4be478ef"
      },
      "source": [
        "#除去重複出現使用者\n",
        "users_to_drop = session_counts[session_counts > 1].index\n",
        "\n",
        "df = df[~df['user_id'].isin(users_to_drop)]\n",
        "print(f'The updated dataset now has {df.shape[0]} entries')"
      ],
      "execution_count": 11,
      "outputs": [
        {
          "output_type": "stream",
          "name": "stdout",
          "text": [
            "The updated dataset now has 286690 entries\n"
          ]
        }
      ]
    },
    {
      "cell_type": "code",
      "metadata": {
        "colab": {
          "base_uri": "https://localhost:8080/",
          "height": 408
        },
        "id": "gOh_R80CEYVs",
        "outputId": "3e440572-63b5-4e15-9ca5-155083bf7f6c"
      },
      "source": [
        "#選取 控制組和實驗組各半 4720 * 2 = 9440\n",
        "control_sample = df[df['group'] == 'control'].sample(n=required_n, random_state=22)\n",
        "treatment_sample = df[df['group'] == 'treatment'].sample(n=required_n, random_state=22)\n",
        "\n",
        "ab_test = pd.concat([control_sample, treatment_sample], axis=0)\n",
        "ab_test.reset_index(drop=True, inplace=True)\n",
        "ab_test"
      ],
      "execution_count": 12,
      "outputs": [
        {
          "output_type": "execute_result",
          "data": {
            "text/plain": [
              "       user_id                   timestamp      group landing_page  converted\n",
              "0       763854  2017-01-21 03:43:17.188315    control     old_page          0\n",
              "1       690555  2017-01-18 06:38:13.079449    control     old_page          0\n",
              "2       861520  2017-01-06 21:13:40.044766    control     old_page          0\n",
              "3       630778  2017-01-05 16:42:36.995204    control     old_page          0\n",
              "4       656634  2017-01-04 15:31:21.676130    control     old_page          0\n",
              "...        ...                         ...        ...          ...        ...\n",
              "31935   780954  2017-01-19 07:49:58.295232  treatment     new_page          0\n",
              "31936   700881  2017-01-13 12:31:37.243352  treatment     new_page          0\n",
              "31937   829626  2017-01-14 09:07:57.784950  treatment     new_page          0\n",
              "31938   773197  2017-01-05 00:23:56.177295  treatment     new_page          0\n",
              "31939   720502  2017-01-15 15:54:12.049241  treatment     new_page          0\n",
              "\n",
              "[31940 rows x 5 columns]"
            ],
            "text/html": "<div>\n<style scoped>\n    .dataframe tbody tr th:only-of-type {\n        vertical-align: middle;\n    }\n\n    .dataframe tbody tr th {\n        vertical-align: top;\n    }\n\n    .dataframe thead th {\n        text-align: right;\n    }\n</style>\n<table border=\"1\" class=\"dataframe\">\n  <thead>\n    <tr style=\"text-align: right;\">\n      <th></th>\n      <th>user_id</th>\n      <th>timestamp</th>\n      <th>group</th>\n      <th>landing_page</th>\n      <th>converted</th>\n    </tr>\n  </thead>\n  <tbody>\n    <tr>\n      <th>0</th>\n      <td>763854</td>\n      <td>2017-01-21 03:43:17.188315</td>\n      <td>control</td>\n      <td>old_page</td>\n      <td>0</td>\n    </tr>\n    <tr>\n      <th>1</th>\n      <td>690555</td>\n      <td>2017-01-18 06:38:13.079449</td>\n      <td>control</td>\n      <td>old_page</td>\n      <td>0</td>\n    </tr>\n    <tr>\n      <th>2</th>\n      <td>861520</td>\n      <td>2017-01-06 21:13:40.044766</td>\n      <td>control</td>\n      <td>old_page</td>\n      <td>0</td>\n    </tr>\n    <tr>\n      <th>3</th>\n      <td>630778</td>\n      <td>2017-01-05 16:42:36.995204</td>\n      <td>control</td>\n      <td>old_page</td>\n      <td>0</td>\n    </tr>\n    <tr>\n      <th>4</th>\n      <td>656634</td>\n      <td>2017-01-04 15:31:21.676130</td>\n      <td>control</td>\n      <td>old_page</td>\n      <td>0</td>\n    </tr>\n    <tr>\n      <th>...</th>\n      <td>...</td>\n      <td>...</td>\n      <td>...</td>\n      <td>...</td>\n      <td>...</td>\n    </tr>\n    <tr>\n      <th>31935</th>\n      <td>780954</td>\n      <td>2017-01-19 07:49:58.295232</td>\n      <td>treatment</td>\n      <td>new_page</td>\n      <td>0</td>\n    </tr>\n    <tr>\n      <th>31936</th>\n      <td>700881</td>\n      <td>2017-01-13 12:31:37.243352</td>\n      <td>treatment</td>\n      <td>new_page</td>\n      <td>0</td>\n    </tr>\n    <tr>\n      <th>31937</th>\n      <td>829626</td>\n      <td>2017-01-14 09:07:57.784950</td>\n      <td>treatment</td>\n      <td>new_page</td>\n      <td>0</td>\n    </tr>\n    <tr>\n      <th>31938</th>\n      <td>773197</td>\n      <td>2017-01-05 00:23:56.177295</td>\n      <td>treatment</td>\n      <td>new_page</td>\n      <td>0</td>\n    </tr>\n    <tr>\n      <th>31939</th>\n      <td>720502</td>\n      <td>2017-01-15 15:54:12.049241</td>\n      <td>treatment</td>\n      <td>new_page</td>\n      <td>0</td>\n    </tr>\n  </tbody>\n</table>\n<p>31940 rows × 5 columns</p>\n</div>"
          },
          "metadata": {},
          "execution_count": 12
        }
      ]
    },
    {
      "cell_type": "code",
      "metadata": {
        "colab": {
          "base_uri": "https://localhost:8080/"
        },
        "id": "I0DU6C8uEbbZ",
        "outputId": "fac2e170-6d00-4555-db36-84bb69dde08e"
      },
      "source": [
        "ab_test.info()"
      ],
      "execution_count": 13,
      "outputs": [
        {
          "output_type": "stream",
          "name": "stdout",
          "text": [
            "<class 'pandas.core.frame.DataFrame'>\nRangeIndex: 31940 entries, 0 to 31939\nData columns (total 5 columns):\n #   Column        Non-Null Count  Dtype \n---  ------        --------------  ----- \n 0   user_id       31940 non-null  int64 \n 1   timestamp     31940 non-null  object\n 2   group         31940 non-null  object\n 3   landing_page  31940 non-null  object\n 4   converted     31940 non-null  int64 \ndtypes: int64(2), object(3)\nmemory usage: 1.2+ MB\n"
          ]
        }
      ]
    },
    {
      "cell_type": "code",
      "metadata": {
        "id": "viU4ZRx6W3Yh",
        "colab": {
          "base_uri": "https://localhost:8080/"
        },
        "outputId": "616f13cb-60f2-41fe-9d85-c3e73152b9f9"
      },
      "source": [
        "#確認 ab_test 控制組實驗組各半\n",
        "ab_test['group'].value_counts()"
      ],
      "execution_count": 14,
      "outputs": [
        {
          "output_type": "execute_result",
          "data": {
            "text/plain": [
              "treatment    15970\n",
              "control      15970\n",
              "Name: group, dtype: int64"
            ]
          },
          "metadata": {},
          "execution_count": 14
        }
      ]
    },
    {
      "cell_type": "code",
      "metadata": {
        "colab": {
          "base_uri": "https://localhost:8080/",
          "height": 101
        },
        "id": "ewFAGIwMEfJJ",
        "outputId": "933e9583-ead7-4eec-bfe7-3c3856c00e81"
      },
      "source": [
        "#計算conversion rate 平均值，標準差，標準誤\n",
        "conversion_rates = ab_test.groupby('group')['converted']\n",
        "\n",
        "std_p = lambda x: np.std(x, ddof=0)              # Std. deviation of the proportion\n",
        "se_p = lambda x: stats.sem(x, ddof=0)            # Std. error of the proportion (std / sqrt(n))\n",
        "\n",
        "conversion_rates = conversion_rates.agg([np.mean, std_p, se_p])\n",
        "conversion_rates.columns = ['conversion_rate', 'std_deviation', 'std_error']\n",
        "\n",
        "\n",
        "conversion_rates.style.format('{:.3f}')"
      ],
      "execution_count": 15,
      "outputs": [
        {
          "output_type": "execute_result",
          "data": {
            "text/plain": [
              "<pandas.io.formats.style.Styler at 0x1dee7237b80>"
            ],
            "text/html": "<style  type=\"text/css\" >\n</style><table id=\"T_653e3bcb_8953_11eb_a72a_5e0c2bbe4f3f\" ><thead>    <tr>        <th class=\"blank level0\" ></th>        <th class=\"col_heading level0 col0\" >conversion_rate</th>        <th class=\"col_heading level0 col1\" >std_deviation</th>        <th class=\"col_heading level0 col2\" >std_error</th>    </tr>    <tr>        <th class=\"index_name level0\" >group</th>        <th class=\"blank\" ></th>        <th class=\"blank\" ></th>        <th class=\"blank\" ></th>    </tr></thead><tbody>\n                <tr>\n                        <th id=\"T_653e3bcb_8953_11eb_a72a_5e0c2bbe4f3flevel0_row0\" class=\"row_heading level0 row0\" >control</th>\n                        <td id=\"T_653e3bcb_8953_11eb_a72a_5e0c2bbe4f3frow0_col0\" class=\"data row0 col0\" >0.121</td>\n                        <td id=\"T_653e3bcb_8953_11eb_a72a_5e0c2bbe4f3frow0_col1\" class=\"data row0 col1\" >0.326</td>\n                        <td id=\"T_653e3bcb_8953_11eb_a72a_5e0c2bbe4f3frow0_col2\" class=\"data row0 col2\" >0.003</td>\n            </tr>\n            <tr>\n                        <th id=\"T_653e3bcb_8953_11eb_a72a_5e0c2bbe4f3flevel0_row1\" class=\"row_heading level0 row1\" >treatment</th>\n                        <td id=\"T_653e3bcb_8953_11eb_a72a_5e0c2bbe4f3frow1_col0\" class=\"data row1 col0\" >0.121</td>\n                        <td id=\"T_653e3bcb_8953_11eb_a72a_5e0c2bbe4f3frow1_col1\" class=\"data row1 col1\" >0.326</td>\n                        <td id=\"T_653e3bcb_8953_11eb_a72a_5e0c2bbe4f3frow1_col2\" class=\"data row1 col2\" >0.003</td>\n            </tr>\n    </tbody></table>"
          },
          "metadata": {},
          "execution_count": 15
        }
      ]
    },
    {
      "cell_type": "code",
      "metadata": {
        "colab": {
          "base_uri": "https://localhost:8080/",
          "height": 438
        },
        "id": "IVM21KkUEitI",
        "outputId": "b1a78e86-86db-4509-e351-9be987d47a21"
      },
      "source": [
        "#繪出 conversion rate 棒狀圖\n",
        "plt.figure(figsize=(8,6))\n",
        "\n",
        "sns.barplot(x=ab_test['group'], y=ab_test['converted'], ci=False)\n",
        "\n",
        "plt.ylim(0, 0.17)\n",
        "plt.title('Conversion rate by group', pad=20)\n",
        "plt.xlabel('Group', labelpad=15)\n",
        "plt.ylabel('Converted (proportion)', labelpad=15);"
      ],
      "execution_count": 16,
      "outputs": [
        {
          "output_type": "stream",
          "name": "stderr",
          "text": [
            "findfont: Font family ['Helvetica'] not found. Falling back to DejaVu Sans.\n",
            "findfont: Font family ['Helvetica'] not found. Falling back to DejaVu Sans.\n",
            "findfont: Font family ['Helvetica'] not found. Falling back to DejaVu Sans.\n"
          ]
        },
        {
          "output_type": "display_data",
          "data": {
            "text/plain": "<Figure size 576x432 with 1 Axes>",
            "image/svg+xml": "<?xml version=\"1.0\" encoding=\"utf-8\" standalone=\"no\"?>\r\n<!DOCTYPE svg PUBLIC \"-//W3C//DTD SVG 1.1//EN\"\r\n  \"http://www.w3.org/Graphics/SVG/1.1/DTD/svg11.dtd\">\r\n<!-- Created with matplotlib (https://matplotlib.org/) -->\r\n<svg height=\"418.924125pt\" version=\"1.1\" viewBox=\"0 0 527.39 418.924125\" width=\"527.39pt\" xmlns=\"http://www.w3.org/2000/svg\" xmlns:xlink=\"http://www.w3.org/1999/xlink\">\r\n <metadata>\r\n  <rdf:RDF xmlns:cc=\"http://creativecommons.org/ns#\" xmlns:dc=\"http://purl.org/dc/elements/1.1/\" xmlns:rdf=\"http://www.w3.org/1999/02/22-rdf-syntax-ns#\">\r\n   <cc:Work>\r\n    <dc:type rdf:resource=\"http://purl.org/dc/dcmitype/StillImage\"/>\r\n    <dc:date>2021-03-20T16:08:04.619717</dc:date>\r\n    <dc:format>image/svg+xml</dc:format>\r\n    <dc:creator>\r\n     <cc:Agent>\r\n      <dc:title>Matplotlib v3.3.2, https://matplotlib.org/</dc:title>\r\n     </cc:Agent>\r\n    </dc:creator>\r\n   </cc:Work>\r\n  </rdf:RDF>\r\n </metadata>\r\n <defs>\r\n  <style type=\"text/css\">*{stroke-linecap:butt;stroke-linejoin:round;}</style>\r\n </defs>\r\n <g id=\"figure_1\">\r\n  <g id=\"patch_1\">\r\n   <path d=\"M 0 418.924125 \r\nL 527.39 418.924125 \r\nL 527.39 0 \r\nL 0 0 \r\nz\r\n\" style=\"fill:#ffffff;\"/>\r\n  </g>\r\n  <g id=\"axes_1\">\r\n   <g id=\"patch_2\">\r\n    <path d=\"M 73.79 366.125375 \r\nL 520.19 366.125375 \r\nL 520.19 39.965375 \r\nL 73.79 39.965375 \r\nz\r\n\" style=\"fill:#ffffff;\"/>\r\n   </g>\r\n   <g id=\"matplotlib.axis_1\">\r\n    <g id=\"xtick_1\">\r\n     <g id=\"line2d_1\"/>\r\n     <g id=\"text_1\">\r\n      <!-- control -->\r\n      <g style=\"fill:#262626;\" transform=\"translate(157.441406 380.263187)scale(0.14 -0.14)\">\r\n       <defs>\r\n        <path d=\"M 52.59375 52.984375 \r\nL 52.59375 38.71875 \r\nQ 49.03125 41.15625 45.4375 42.328125 \r\nQ 41.84375 43.5 37.984375 43.5 \r\nQ 30.671875 43.5 26.59375 39.234375 \r\nQ 22.515625 34.96875 22.515625 27.296875 \r\nQ 22.515625 19.625 26.59375 15.34375 \r\nQ 30.671875 11.078125 37.984375 11.078125 \r\nQ 42.09375 11.078125 45.78125 12.296875 \r\nQ 49.46875 13.53125 52.59375 15.921875 \r\nL 52.59375 1.609375 \r\nQ 48.484375 0.09375 44.265625 -0.65625 \r\nQ 40.046875 -1.421875 35.796875 -1.421875 \r\nQ 21 -1.421875 12.640625 6.171875 \r\nQ 4.296875 13.765625 4.296875 27.296875 \r\nQ 4.296875 40.828125 12.640625 48.40625 \r\nQ 21 56 35.796875 56 \r\nQ 40.09375 56 44.265625 55.25 \r\nQ 48.4375 54.5 52.59375 52.984375 \r\nz\r\n\" id=\"DejaVuSans-Bold-99\"/>\r\n        <path d=\"M 34.421875 43.5 \r\nQ 28.609375 43.5 25.5625 39.328125 \r\nQ 22.515625 35.15625 22.515625 27.296875 \r\nQ 22.515625 19.4375 25.5625 15.25 \r\nQ 28.609375 11.078125 34.421875 11.078125 \r\nQ 40.140625 11.078125 43.15625 15.25 \r\nQ 46.1875 19.4375 46.1875 27.296875 \r\nQ 46.1875 35.15625 43.15625 39.328125 \r\nQ 40.140625 43.5 34.421875 43.5 \r\nz\r\nM 34.421875 56 \r\nQ 48.53125 56 56.46875 48.375 \r\nQ 64.40625 40.765625 64.40625 27.296875 \r\nQ 64.40625 13.8125 56.46875 6.1875 \r\nQ 48.53125 -1.421875 34.421875 -1.421875 \r\nQ 20.265625 -1.421875 12.28125 6.1875 \r\nQ 4.296875 13.8125 4.296875 27.296875 \r\nQ 4.296875 40.765625 12.28125 48.375 \r\nQ 20.265625 56 34.421875 56 \r\nz\r\n\" id=\"DejaVuSans-Bold-111\"/>\r\n        <path d=\"M 63.375 33.296875 \r\nL 63.375 0 \r\nL 45.796875 0 \r\nL 45.796875 5.421875 \r\nL 45.796875 25.484375 \r\nQ 45.796875 32.5625 45.484375 35.25 \r\nQ 45.171875 37.9375 44.390625 39.203125 \r\nQ 43.359375 40.921875 41.59375 41.875 \r\nQ 39.84375 42.828125 37.59375 42.828125 \r\nQ 32.125 42.828125 29 38.59375 \r\nQ 25.875 34.375 25.875 26.90625 \r\nL 25.875 0 \r\nL 8.40625 0 \r\nL 8.40625 54.6875 \r\nL 25.875 54.6875 \r\nL 25.875 46.6875 \r\nQ 29.828125 51.46875 34.265625 53.734375 \r\nQ 38.71875 56 44.09375 56 \r\nQ 53.5625 56 58.46875 50.1875 \r\nQ 63.375 44.390625 63.375 33.296875 \r\nz\r\n\" id=\"DejaVuSans-Bold-110\"/>\r\n        <path d=\"M 27.484375 70.21875 \r\nL 27.484375 54.6875 \r\nL 45.515625 54.6875 \r\nL 45.515625 42.1875 \r\nL 27.484375 42.1875 \r\nL 27.484375 19 \r\nQ 27.484375 15.1875 29 13.84375 \r\nQ 30.515625 12.5 35.015625 12.5 \r\nL 44 12.5 \r\nL 44 0 \r\nL 29 0 \r\nQ 18.65625 0 14.328125 4.3125 \r\nQ 10.015625 8.640625 10.015625 19 \r\nL 10.015625 42.1875 \r\nL 1.3125 42.1875 \r\nL 1.3125 54.6875 \r\nL 10.015625 54.6875 \r\nL 10.015625 70.21875 \r\nz\r\n\" id=\"DejaVuSans-Bold-116\"/>\r\n        <path d=\"M 49.03125 39.796875 \r\nQ 46.734375 40.875 44.453125 41.375 \r\nQ 42.1875 41.890625 39.890625 41.890625 \r\nQ 33.15625 41.890625 29.515625 37.5625 \r\nQ 25.875 33.25 25.875 25.203125 \r\nL 25.875 0 \r\nL 8.40625 0 \r\nL 8.40625 54.6875 \r\nL 25.875 54.6875 \r\nL 25.875 45.703125 \r\nQ 29.25 51.078125 33.609375 53.53125 \r\nQ 37.984375 56 44.09375 56 \r\nQ 44.96875 56 45.984375 55.921875 \r\nQ 47.015625 55.859375 48.96875 55.609375 \r\nz\r\n\" id=\"DejaVuSans-Bold-114\"/>\r\n        <path d=\"M 8.40625 75.984375 \r\nL 25.875 75.984375 \r\nL 25.875 0 \r\nL 8.40625 0 \r\nz\r\n\" id=\"DejaVuSans-Bold-108\"/>\r\n       </defs>\r\n       <use xlink:href=\"#DejaVuSans-Bold-99\"/>\r\n       <use x=\"59.277344\" xlink:href=\"#DejaVuSans-Bold-111\"/>\r\n       <use x=\"127.978516\" xlink:href=\"#DejaVuSans-Bold-110\"/>\r\n       <use x=\"199.169922\" xlink:href=\"#DejaVuSans-Bold-116\"/>\r\n       <use x=\"246.972656\" xlink:href=\"#DejaVuSans-Bold-114\"/>\r\n       <use x=\"296.289062\" xlink:href=\"#DejaVuSans-Bold-111\"/>\r\n       <use x=\"364.990234\" xlink:href=\"#DejaVuSans-Bold-108\"/>\r\n      </g>\r\n     </g>\r\n    </g>\r\n    <g id=\"xtick_2\">\r\n     <g id=\"line2d_2\"/>\r\n     <g id=\"text_2\">\r\n      <!-- treatment -->\r\n      <g style=\"fill:#262626;\" transform=\"translate(368.603594 380.263187)scale(0.14 -0.14)\">\r\n       <defs>\r\n        <path d=\"M 62.984375 27.484375 \r\nL 62.984375 22.515625 \r\nL 22.125 22.515625 \r\nQ 22.75 16.359375 26.5625 13.28125 \r\nQ 30.375 10.203125 37.203125 10.203125 \r\nQ 42.71875 10.203125 48.5 11.84375 \r\nQ 54.296875 13.484375 60.40625 16.796875 \r\nL 60.40625 3.328125 \r\nQ 54.203125 0.984375 48 -0.21875 \r\nQ 41.796875 -1.421875 35.59375 -1.421875 \r\nQ 20.75 -1.421875 12.515625 6.125 \r\nQ 4.296875 13.671875 4.296875 27.296875 \r\nQ 4.296875 40.671875 12.375 48.328125 \r\nQ 20.453125 56 34.625 56 \r\nQ 47.515625 56 55.25 48.234375 \r\nQ 62.984375 40.484375 62.984375 27.484375 \r\nz\r\nM 45.015625 33.296875 \r\nQ 45.015625 38.28125 42.109375 41.328125 \r\nQ 39.203125 44.390625 34.515625 44.390625 \r\nQ 29.4375 44.390625 26.265625 41.53125 \r\nQ 23.09375 38.671875 22.3125 33.296875 \r\nz\r\n\" id=\"DejaVuSans-Bold-101\"/>\r\n        <path d=\"M 32.90625 24.609375 \r\nQ 27.4375 24.609375 24.671875 22.75 \r\nQ 21.921875 20.90625 21.921875 17.28125 \r\nQ 21.921875 13.96875 24.140625 12.078125 \r\nQ 26.375 10.203125 30.328125 10.203125 \r\nQ 35.25 10.203125 38.625 13.734375 \r\nQ 42 17.28125 42 22.609375 \r\nL 42 24.609375 \r\nz\r\nM 59.625 31.203125 \r\nL 59.625 0 \r\nL 42 0 \r\nL 42 8.109375 \r\nQ 38.484375 3.125 34.078125 0.84375 \r\nQ 29.6875 -1.421875 23.390625 -1.421875 \r\nQ 14.890625 -1.421875 9.59375 3.53125 \r\nQ 4.296875 8.5 4.296875 16.40625 \r\nQ 4.296875 26.03125 10.90625 30.515625 \r\nQ 17.53125 35.015625 31.6875 35.015625 \r\nL 42 35.015625 \r\nL 42 36.375 \r\nQ 42 40.53125 38.71875 42.453125 \r\nQ 35.453125 44.390625 28.515625 44.390625 \r\nQ 22.90625 44.390625 18.0625 43.265625 \r\nQ 13.234375 42.140625 9.078125 39.890625 \r\nL 9.078125 53.21875 \r\nQ 14.703125 54.59375 20.359375 55.296875 \r\nQ 26.03125 56 31.6875 56 \r\nQ 46.484375 56 53.046875 50.171875 \r\nQ 59.625 44.34375 59.625 31.203125 \r\nz\r\n\" id=\"DejaVuSans-Bold-97\"/>\r\n        <path d=\"M 59.078125 45.609375 \r\nQ 62.40625 50.6875 66.96875 53.34375 \r\nQ 71.53125 56 77 56 \r\nQ 86.421875 56 91.359375 50.1875 \r\nQ 96.296875 44.390625 96.296875 33.296875 \r\nL 96.296875 0 \r\nL 78.71875 0 \r\nL 78.71875 28.515625 \r\nQ 78.765625 29.15625 78.78125 29.828125 \r\nQ 78.8125 30.515625 78.8125 31.78125 \r\nQ 78.8125 37.59375 77.09375 40.203125 \r\nQ 75.390625 42.828125 71.578125 42.828125 \r\nQ 66.609375 42.828125 63.890625 38.71875 \r\nQ 61.1875 34.625 61.078125 26.859375 \r\nL 61.078125 0 \r\nL 43.5 0 \r\nL 43.5 28.515625 \r\nQ 43.5 37.59375 41.9375 40.203125 \r\nQ 40.375 42.828125 36.375 42.828125 \r\nQ 31.34375 42.828125 28.609375 38.703125 \r\nQ 25.875 34.578125 25.875 26.90625 \r\nL 25.875 0 \r\nL 8.296875 0 \r\nL 8.296875 54.6875 \r\nL 25.875 54.6875 \r\nL 25.875 46.6875 \r\nQ 29.109375 51.3125 33.28125 53.65625 \r\nQ 37.453125 56 42.484375 56 \r\nQ 48.140625 56 52.484375 53.265625 \r\nQ 56.84375 50.53125 59.078125 45.609375 \r\nz\r\n\" id=\"DejaVuSans-Bold-109\"/>\r\n       </defs>\r\n       <use xlink:href=\"#DejaVuSans-Bold-116\"/>\r\n       <use x=\"47.802734\" xlink:href=\"#DejaVuSans-Bold-114\"/>\r\n       <use x=\"97.119141\" xlink:href=\"#DejaVuSans-Bold-101\"/>\r\n       <use x=\"164.941406\" xlink:href=\"#DejaVuSans-Bold-97\"/>\r\n       <use x=\"232.421875\" xlink:href=\"#DejaVuSans-Bold-116\"/>\r\n       <use x=\"280.224609\" xlink:href=\"#DejaVuSans-Bold-109\"/>\r\n       <use x=\"384.423828\" xlink:href=\"#DejaVuSans-Bold-101\"/>\r\n       <use x=\"452.246094\" xlink:href=\"#DejaVuSans-Bold-110\"/>\r\n       <use x=\"523.4375\" xlink:href=\"#DejaVuSans-Bold-116\"/>\r\n      </g>\r\n     </g>\r\n    </g>\r\n    <g id=\"text_3\">\r\n     <!-- Group -->\r\n     <g style=\"fill:#262626;\" transform=\"translate(275.682656 408.812562)scale(0.14 -0.14)\">\r\n      <defs>\r\n       <path d=\"M 59.515625 10.40625 \r\nL 59.515625 29.984375 \r\nL 43.40625 29.984375 \r\nL 43.40625 38.09375 \r\nL 69.28125 38.09375 \r\nL 69.28125 6.78125 \r\nQ 63.578125 2.734375 56.6875 0.65625 \r\nQ 49.8125 -1.421875 42 -1.421875 \r\nQ 24.90625 -1.421875 15.25 8.5625 \r\nQ 5.609375 18.5625 5.609375 36.375 \r\nQ 5.609375 54.25 15.25 64.234375 \r\nQ 24.90625 74.21875 42 74.21875 \r\nQ 49.125 74.21875 55.546875 72.453125 \r\nQ 61.96875 70.703125 67.390625 67.28125 \r\nL 67.390625 56.78125 \r\nQ 61.921875 61.421875 55.765625 63.765625 \r\nQ 49.609375 66.109375 42.828125 66.109375 \r\nQ 29.4375 66.109375 22.71875 58.640625 \r\nQ 16.015625 51.171875 16.015625 36.375 \r\nQ 16.015625 21.625 22.71875 14.15625 \r\nQ 29.4375 6.6875 42.828125 6.6875 \r\nQ 48.046875 6.6875 52.140625 7.59375 \r\nQ 56.25 8.5 59.515625 10.40625 \r\nz\r\n\" id=\"DejaVuSans-71\"/>\r\n       <path d=\"M 41.109375 46.296875 \r\nQ 39.59375 47.171875 37.8125 47.578125 \r\nQ 36.03125 48 33.890625 48 \r\nQ 26.265625 48 22.1875 43.046875 \r\nQ 18.109375 38.09375 18.109375 28.8125 \r\nL 18.109375 0 \r\nL 9.078125 0 \r\nL 9.078125 54.6875 \r\nL 18.109375 54.6875 \r\nL 18.109375 46.1875 \r\nQ 20.953125 51.171875 25.484375 53.578125 \r\nQ 30.03125 56 36.53125 56 \r\nQ 37.453125 56 38.578125 55.875 \r\nQ 39.703125 55.765625 41.0625 55.515625 \r\nz\r\n\" id=\"DejaVuSans-114\"/>\r\n       <path d=\"M 30.609375 48.390625 \r\nQ 23.390625 48.390625 19.1875 42.75 \r\nQ 14.984375 37.109375 14.984375 27.296875 \r\nQ 14.984375 17.484375 19.15625 11.84375 \r\nQ 23.34375 6.203125 30.609375 6.203125 \r\nQ 37.796875 6.203125 41.984375 11.859375 \r\nQ 46.1875 17.53125 46.1875 27.296875 \r\nQ 46.1875 37.015625 41.984375 42.703125 \r\nQ 37.796875 48.390625 30.609375 48.390625 \r\nz\r\nM 30.609375 56 \r\nQ 42.328125 56 49.015625 48.375 \r\nQ 55.71875 40.765625 55.71875 27.296875 \r\nQ 55.71875 13.875 49.015625 6.21875 \r\nQ 42.328125 -1.421875 30.609375 -1.421875 \r\nQ 18.84375 -1.421875 12.171875 6.21875 \r\nQ 5.515625 13.875 5.515625 27.296875 \r\nQ 5.515625 40.765625 12.171875 48.375 \r\nQ 18.84375 56 30.609375 56 \r\nz\r\n\" id=\"DejaVuSans-111\"/>\r\n       <path d=\"M 8.5 21.578125 \r\nL 8.5 54.6875 \r\nL 17.484375 54.6875 \r\nL 17.484375 21.921875 \r\nQ 17.484375 14.15625 20.5 10.265625 \r\nQ 23.53125 6.390625 29.59375 6.390625 \r\nQ 36.859375 6.390625 41.078125 11.03125 \r\nQ 45.3125 15.671875 45.3125 23.6875 \r\nL 45.3125 54.6875 \r\nL 54.296875 54.6875 \r\nL 54.296875 0 \r\nL 45.3125 0 \r\nL 45.3125 8.40625 \r\nQ 42.046875 3.421875 37.71875 1 \r\nQ 33.40625 -1.421875 27.6875 -1.421875 \r\nQ 18.265625 -1.421875 13.375 4.4375 \r\nQ 8.5 10.296875 8.5 21.578125 \r\nz\r\nM 31.109375 56 \r\nz\r\n\" id=\"DejaVuSans-117\"/>\r\n       <path d=\"M 18.109375 8.203125 \r\nL 18.109375 -20.796875 \r\nL 9.078125 -20.796875 \r\nL 9.078125 54.6875 \r\nL 18.109375 54.6875 \r\nL 18.109375 46.390625 \r\nQ 20.953125 51.265625 25.265625 53.625 \r\nQ 29.59375 56 35.59375 56 \r\nQ 45.5625 56 51.78125 48.09375 \r\nQ 58.015625 40.1875 58.015625 27.296875 \r\nQ 58.015625 14.40625 51.78125 6.484375 \r\nQ 45.5625 -1.421875 35.59375 -1.421875 \r\nQ 29.59375 -1.421875 25.265625 0.953125 \r\nQ 20.953125 3.328125 18.109375 8.203125 \r\nz\r\nM 48.6875 27.296875 \r\nQ 48.6875 37.203125 44.609375 42.84375 \r\nQ 40.53125 48.484375 33.40625 48.484375 \r\nQ 26.265625 48.484375 22.1875 42.84375 \r\nQ 18.109375 37.203125 18.109375 27.296875 \r\nQ 18.109375 17.390625 22.1875 11.75 \r\nQ 26.265625 6.109375 33.40625 6.109375 \r\nQ 40.53125 6.109375 44.609375 11.75 \r\nQ 48.6875 17.390625 48.6875 27.296875 \r\nz\r\n\" id=\"DejaVuSans-112\"/>\r\n      </defs>\r\n      <use xlink:href=\"#DejaVuSans-71\"/>\r\n      <use x=\"77.490234\" xlink:href=\"#DejaVuSans-114\"/>\r\n      <use x=\"116.353516\" xlink:href=\"#DejaVuSans-111\"/>\r\n      <use x=\"177.535156\" xlink:href=\"#DejaVuSans-117\"/>\r\n      <use x=\"240.914062\" xlink:href=\"#DejaVuSans-112\"/>\r\n     </g>\r\n    </g>\r\n   </g>\r\n   <g id=\"matplotlib.axis_2\">\r\n    <g id=\"ytick_1\">\r\n     <g id=\"line2d_3\">\r\n      <path clip-path=\"url(#p455ec76770)\" d=\"M 73.79 366.125375 \r\nL 520.19 366.125375 \r\n\" style=\"fill:none;stroke:#cccccc;stroke-linecap:round;stroke-width:0.8;\"/>\r\n     </g>\r\n     <g id=\"line2d_4\"/>\r\n     <g id=\"text_4\">\r\n      <!-- 0.00 -->\r\n      <g style=\"fill:#262626;\" transform=\"translate(35.749375 371.444281)scale(0.14 -0.14)\">\r\n       <defs>\r\n        <path d=\"M 46 36.53125 \r\nQ 46 50.203125 43.4375 55.78125 \r\nQ 40.875 61.375 34.8125 61.375 \r\nQ 28.765625 61.375 26.171875 55.78125 \r\nQ 23.578125 50.203125 23.578125 36.53125 \r\nQ 23.578125 22.703125 26.171875 17.03125 \r\nQ 28.765625 11.375 34.8125 11.375 \r\nQ 40.828125 11.375 43.40625 17.03125 \r\nQ 46 22.703125 46 36.53125 \r\nz\r\nM 64.796875 36.375 \r\nQ 64.796875 18.265625 56.984375 8.421875 \r\nQ 49.171875 -1.421875 34.8125 -1.421875 \r\nQ 20.40625 -1.421875 12.59375 8.421875 \r\nQ 4.78125 18.265625 4.78125 36.375 \r\nQ 4.78125 54.546875 12.59375 64.375 \r\nQ 20.40625 74.21875 34.8125 74.21875 \r\nQ 49.171875 74.21875 56.984375 64.375 \r\nQ 64.796875 54.546875 64.796875 36.375 \r\nz\r\n\" id=\"DejaVuSans-Bold-48\"/>\r\n        <path d=\"M 10.203125 18.890625 \r\nL 27.78125 18.890625 \r\nL 27.78125 0 \r\nL 10.203125 0 \r\nz\r\n\" id=\"DejaVuSans-Bold-46\"/>\r\n       </defs>\r\n       <use xlink:href=\"#DejaVuSans-Bold-48\"/>\r\n       <use x=\"69.580078\" xlink:href=\"#DejaVuSans-Bold-46\"/>\r\n       <use x=\"107.568359\" xlink:href=\"#DejaVuSans-Bold-48\"/>\r\n       <use x=\"177.148438\" xlink:href=\"#DejaVuSans-Bold-48\"/>\r\n      </g>\r\n     </g>\r\n    </g>\r\n    <g id=\"ytick_2\">\r\n     <g id=\"line2d_5\">\r\n      <path clip-path=\"url(#p455ec76770)\" d=\"M 73.79 327.75361 \r\nL 520.19 327.75361 \r\n\" style=\"fill:none;stroke:#cccccc;stroke-linecap:round;stroke-width:0.8;\"/>\r\n     </g>\r\n     <g id=\"line2d_6\"/>\r\n     <g id=\"text_5\">\r\n      <!-- 0.02 -->\r\n      <g style=\"fill:#262626;\" transform=\"translate(35.749375 333.072517)scale(0.14 -0.14)\">\r\n       <defs>\r\n        <path d=\"M 28.8125 13.8125 \r\nL 60.890625 13.8125 \r\nL 60.890625 0 \r\nL 7.90625 0 \r\nL 7.90625 13.8125 \r\nL 34.515625 37.3125 \r\nQ 38.09375 40.53125 39.796875 43.609375 \r\nQ 41.5 46.6875 41.5 50 \r\nQ 41.5 55.125 38.0625 58.25 \r\nQ 34.625 61.375 28.90625 61.375 \r\nQ 24.515625 61.375 19.28125 59.5 \r\nQ 14.0625 57.625 8.109375 53.90625 \r\nL 8.109375 69.921875 \r\nQ 14.453125 72.015625 20.65625 73.109375 \r\nQ 26.859375 74.21875 32.8125 74.21875 \r\nQ 45.90625 74.21875 53.15625 68.453125 \r\nQ 60.40625 62.703125 60.40625 52.390625 \r\nQ 60.40625 46.4375 57.328125 41.28125 \r\nQ 54.25 36.140625 44.390625 27.484375 \r\nz\r\n\" id=\"DejaVuSans-Bold-50\"/>\r\n       </defs>\r\n       <use xlink:href=\"#DejaVuSans-Bold-48\"/>\r\n       <use x=\"69.580078\" xlink:href=\"#DejaVuSans-Bold-46\"/>\r\n       <use x=\"107.568359\" xlink:href=\"#DejaVuSans-Bold-48\"/>\r\n       <use x=\"177.148438\" xlink:href=\"#DejaVuSans-Bold-50\"/>\r\n      </g>\r\n     </g>\r\n    </g>\r\n    <g id=\"ytick_3\">\r\n     <g id=\"line2d_7\">\r\n      <path clip-path=\"url(#p455ec76770)\" d=\"M 73.79 289.381846 \r\nL 520.19 289.381846 \r\n\" style=\"fill:none;stroke:#cccccc;stroke-linecap:round;stroke-width:0.8;\"/>\r\n     </g>\r\n     <g id=\"line2d_8\"/>\r\n     <g id=\"text_6\">\r\n      <!-- 0.04 -->\r\n      <g style=\"fill:#262626;\" transform=\"translate(35.749375 294.700752)scale(0.14 -0.14)\">\r\n       <defs>\r\n        <path d=\"M 36.8125 57.421875 \r\nL 16.21875 26.90625 \r\nL 36.8125 26.90625 \r\nz\r\nM 33.6875 72.90625 \r\nL 54.59375 72.90625 \r\nL 54.59375 26.90625 \r\nL 64.984375 26.90625 \r\nL 64.984375 13.28125 \r\nL 54.59375 13.28125 \r\nL 54.59375 0 \r\nL 36.8125 0 \r\nL 36.8125 13.28125 \r\nL 4.5 13.28125 \r\nL 4.5 29.390625 \r\nz\r\n\" id=\"DejaVuSans-Bold-52\"/>\r\n       </defs>\r\n       <use xlink:href=\"#DejaVuSans-Bold-48\"/>\r\n       <use x=\"69.580078\" xlink:href=\"#DejaVuSans-Bold-46\"/>\r\n       <use x=\"107.568359\" xlink:href=\"#DejaVuSans-Bold-48\"/>\r\n       <use x=\"177.148438\" xlink:href=\"#DejaVuSans-Bold-52\"/>\r\n      </g>\r\n     </g>\r\n    </g>\r\n    <g id=\"ytick_4\">\r\n     <g id=\"line2d_9\">\r\n      <path clip-path=\"url(#p455ec76770)\" d=\"M 73.79 251.010081 \r\nL 520.19 251.010081 \r\n\" style=\"fill:none;stroke:#cccccc;stroke-linecap:round;stroke-width:0.8;\"/>\r\n     </g>\r\n     <g id=\"line2d_10\"/>\r\n     <g id=\"text_7\">\r\n      <!-- 0.06 -->\r\n      <g style=\"fill:#262626;\" transform=\"translate(35.749375 256.328987)scale(0.14 -0.14)\">\r\n       <defs>\r\n        <path d=\"M 36.1875 35.984375 \r\nQ 31.25 35.984375 28.78125 32.78125 \r\nQ 26.3125 29.59375 26.3125 23.1875 \r\nQ 26.3125 16.796875 28.78125 13.59375 \r\nQ 31.25 10.40625 36.1875 10.40625 \r\nQ 41.15625 10.40625 43.625 13.59375 \r\nQ 46.09375 16.796875 46.09375 23.1875 \r\nQ 46.09375 29.59375 43.625 32.78125 \r\nQ 41.15625 35.984375 36.1875 35.984375 \r\nz\r\nM 59.421875 71 \r\nL 59.421875 57.515625 \r\nQ 54.78125 59.71875 50.671875 60.765625 \r\nQ 46.578125 61.8125 42.671875 61.8125 \r\nQ 34.28125 61.8125 29.59375 57.140625 \r\nQ 24.90625 52.484375 24.125 43.3125 \r\nQ 27.34375 45.703125 31.09375 46.890625 \r\nQ 34.859375 48.09375 39.3125 48.09375 \r\nQ 50.484375 48.09375 57.34375 41.546875 \r\nQ 64.203125 35.015625 64.203125 24.421875 \r\nQ 64.203125 12.703125 56.53125 5.640625 \r\nQ 48.875 -1.421875 35.984375 -1.421875 \r\nQ 21.78125 -1.421875 13.984375 8.171875 \r\nQ 6.203125 17.78125 6.203125 35.40625 \r\nQ 6.203125 53.46875 15.3125 63.796875 \r\nQ 24.421875 74.125 40.28125 74.125 \r\nQ 45.3125 74.125 50.046875 73.34375 \r\nQ 54.78125 72.5625 59.421875 71 \r\nz\r\n\" id=\"DejaVuSans-Bold-54\"/>\r\n       </defs>\r\n       <use xlink:href=\"#DejaVuSans-Bold-48\"/>\r\n       <use x=\"69.580078\" xlink:href=\"#DejaVuSans-Bold-46\"/>\r\n       <use x=\"107.568359\" xlink:href=\"#DejaVuSans-Bold-48\"/>\r\n       <use x=\"177.148438\" xlink:href=\"#DejaVuSans-Bold-54\"/>\r\n      </g>\r\n     </g>\r\n    </g>\r\n    <g id=\"ytick_5\">\r\n     <g id=\"line2d_11\">\r\n      <path clip-path=\"url(#p455ec76770)\" d=\"M 73.79 212.638316 \r\nL 520.19 212.638316 \r\n\" style=\"fill:none;stroke:#cccccc;stroke-linecap:round;stroke-width:0.8;\"/>\r\n     </g>\r\n     <g id=\"line2d_12\"/>\r\n     <g id=\"text_8\">\r\n      <!-- 0.08 -->\r\n      <g style=\"fill:#262626;\" transform=\"translate(35.749375 217.957222)scale(0.14 -0.14)\">\r\n       <defs>\r\n        <path d=\"M 34.8125 32.625 \r\nQ 29.546875 32.625 26.703125 29.734375 \r\nQ 23.875 26.859375 23.875 21.484375 \r\nQ 23.875 16.109375 26.703125 13.25 \r\nQ 29.546875 10.40625 34.8125 10.40625 \r\nQ 40.046875 10.40625 42.828125 13.25 \r\nQ 45.609375 16.109375 45.609375 21.484375 \r\nQ 45.609375 26.90625 42.828125 29.765625 \r\nQ 40.046875 32.625 34.8125 32.625 \r\nz\r\nM 21.09375 38.8125 \r\nQ 14.453125 40.828125 11.078125 44.96875 \r\nQ 7.71875 49.125 7.71875 55.328125 \r\nQ 7.71875 64.546875 14.59375 69.375 \r\nQ 21.484375 74.21875 34.8125 74.21875 \r\nQ 48.046875 74.21875 54.921875 69.40625 \r\nQ 61.8125 64.59375 61.8125 55.328125 \r\nQ 61.8125 49.125 58.421875 44.96875 \r\nQ 55.03125 40.828125 48.390625 38.8125 \r\nQ 55.8125 36.765625 59.59375 32.15625 \r\nQ 63.375 27.546875 63.375 20.515625 \r\nQ 63.375 9.671875 56.171875 4.125 \r\nQ 48.96875 -1.421875 34.8125 -1.421875 \r\nQ 20.609375 -1.421875 13.359375 4.125 \r\nQ 6.109375 9.671875 6.109375 20.515625 \r\nQ 6.109375 27.546875 9.890625 32.15625 \r\nQ 13.671875 36.765625 21.09375 38.8125 \r\nz\r\nM 25.484375 53.421875 \r\nQ 25.484375 49.078125 27.90625 46.734375 \r\nQ 30.328125 44.390625 34.8125 44.390625 \r\nQ 39.203125 44.390625 41.59375 46.734375 \r\nQ 44 49.078125 44 53.421875 \r\nQ 44 57.765625 41.59375 60.078125 \r\nQ 39.203125 62.40625 34.8125 62.40625 \r\nQ 30.328125 62.40625 27.90625 60.0625 \r\nQ 25.484375 57.71875 25.484375 53.421875 \r\nz\r\n\" id=\"DejaVuSans-Bold-56\"/>\r\n       </defs>\r\n       <use xlink:href=\"#DejaVuSans-Bold-48\"/>\r\n       <use x=\"69.580078\" xlink:href=\"#DejaVuSans-Bold-46\"/>\r\n       <use x=\"107.568359\" xlink:href=\"#DejaVuSans-Bold-48\"/>\r\n       <use x=\"177.148438\" xlink:href=\"#DejaVuSans-Bold-56\"/>\r\n      </g>\r\n     </g>\r\n    </g>\r\n    <g id=\"ytick_6\">\r\n     <g id=\"line2d_13\">\r\n      <path clip-path=\"url(#p455ec76770)\" d=\"M 73.79 174.266551 \r\nL 520.19 174.266551 \r\n\" style=\"fill:none;stroke:#cccccc;stroke-linecap:round;stroke-width:0.8;\"/>\r\n     </g>\r\n     <g id=\"line2d_14\"/>\r\n     <g id=\"text_9\">\r\n      <!-- 0.10 -->\r\n      <g style=\"fill:#262626;\" transform=\"translate(35.749375 179.585458)scale(0.14 -0.14)\">\r\n       <defs>\r\n        <path d=\"M 11.71875 12.984375 \r\nL 28.328125 12.984375 \r\nL 28.328125 60.109375 \r\nL 11.28125 56.59375 \r\nL 11.28125 69.390625 \r\nL 28.21875 72.90625 \r\nL 46.09375 72.90625 \r\nL 46.09375 12.984375 \r\nL 62.703125 12.984375 \r\nL 62.703125 0 \r\nL 11.71875 0 \r\nz\r\n\" id=\"DejaVuSans-Bold-49\"/>\r\n       </defs>\r\n       <use xlink:href=\"#DejaVuSans-Bold-48\"/>\r\n       <use x=\"69.580078\" xlink:href=\"#DejaVuSans-Bold-46\"/>\r\n       <use x=\"107.568359\" xlink:href=\"#DejaVuSans-Bold-49\"/>\r\n       <use x=\"177.148438\" xlink:href=\"#DejaVuSans-Bold-48\"/>\r\n      </g>\r\n     </g>\r\n    </g>\r\n    <g id=\"ytick_7\">\r\n     <g id=\"line2d_15\">\r\n      <path clip-path=\"url(#p455ec76770)\" d=\"M 73.79 135.894787 \r\nL 520.19 135.894787 \r\n\" style=\"fill:none;stroke:#cccccc;stroke-linecap:round;stroke-width:0.8;\"/>\r\n     </g>\r\n     <g id=\"line2d_16\"/>\r\n     <g id=\"text_10\">\r\n      <!-- 0.12 -->\r\n      <g style=\"fill:#262626;\" transform=\"translate(35.749375 141.213693)scale(0.14 -0.14)\">\r\n       <use xlink:href=\"#DejaVuSans-Bold-48\"/>\r\n       <use x=\"69.580078\" xlink:href=\"#DejaVuSans-Bold-46\"/>\r\n       <use x=\"107.568359\" xlink:href=\"#DejaVuSans-Bold-49\"/>\r\n       <use x=\"177.148438\" xlink:href=\"#DejaVuSans-Bold-50\"/>\r\n      </g>\r\n     </g>\r\n    </g>\r\n    <g id=\"ytick_8\">\r\n     <g id=\"line2d_17\">\r\n      <path clip-path=\"url(#p455ec76770)\" d=\"M 73.79 97.523022 \r\nL 520.19 97.523022 \r\n\" style=\"fill:none;stroke:#cccccc;stroke-linecap:round;stroke-width:0.8;\"/>\r\n     </g>\r\n     <g id=\"line2d_18\"/>\r\n     <g id=\"text_11\">\r\n      <!-- 0.14 -->\r\n      <g style=\"fill:#262626;\" transform=\"translate(35.749375 102.841928)scale(0.14 -0.14)\">\r\n       <use xlink:href=\"#DejaVuSans-Bold-48\"/>\r\n       <use x=\"69.580078\" xlink:href=\"#DejaVuSans-Bold-46\"/>\r\n       <use x=\"107.568359\" xlink:href=\"#DejaVuSans-Bold-49\"/>\r\n       <use x=\"177.148438\" xlink:href=\"#DejaVuSans-Bold-52\"/>\r\n      </g>\r\n     </g>\r\n    </g>\r\n    <g id=\"ytick_9\">\r\n     <g id=\"line2d_19\">\r\n      <path clip-path=\"url(#p455ec76770)\" d=\"M 73.79 59.151257 \r\nL 520.19 59.151257 \r\n\" style=\"fill:none;stroke:#cccccc;stroke-linecap:round;stroke-width:0.8;\"/>\r\n     </g>\r\n     <g id=\"line2d_20\"/>\r\n     <g id=\"text_12\">\r\n      <!-- 0.16 -->\r\n      <g style=\"fill:#262626;\" transform=\"translate(35.749375 64.470164)scale(0.14 -0.14)\">\r\n       <use xlink:href=\"#DejaVuSans-Bold-48\"/>\r\n       <use x=\"69.580078\" xlink:href=\"#DejaVuSans-Bold-46\"/>\r\n       <use x=\"107.568359\" xlink:href=\"#DejaVuSans-Bold-49\"/>\r\n       <use x=\"177.148438\" xlink:href=\"#DejaVuSans-Bold-54\"/>\r\n      </g>\r\n     </g>\r\n    </g>\r\n    <g id=\"text_13\">\r\n     <!-- Converted (proportion) -->\r\n     <g style=\"fill:#262626;\" transform=\"translate(17.837812 283.623031)rotate(-90)scale(0.14 -0.14)\">\r\n      <defs>\r\n       <path d=\"M 64.40625 67.28125 \r\nL 64.40625 56.890625 \r\nQ 59.421875 61.53125 53.78125 63.8125 \r\nQ 48.140625 66.109375 41.796875 66.109375 \r\nQ 29.296875 66.109375 22.65625 58.46875 \r\nQ 16.015625 50.828125 16.015625 36.375 \r\nQ 16.015625 21.96875 22.65625 14.328125 \r\nQ 29.296875 6.6875 41.796875 6.6875 \r\nQ 48.140625 6.6875 53.78125 8.984375 \r\nQ 59.421875 11.28125 64.40625 15.921875 \r\nL 64.40625 5.609375 \r\nQ 59.234375 2.09375 53.4375 0.328125 \r\nQ 47.65625 -1.421875 41.21875 -1.421875 \r\nQ 24.65625 -1.421875 15.125 8.703125 \r\nQ 5.609375 18.84375 5.609375 36.375 \r\nQ 5.609375 53.953125 15.125 64.078125 \r\nQ 24.65625 74.21875 41.21875 74.21875 \r\nQ 47.75 74.21875 53.53125 72.484375 \r\nQ 59.328125 70.75 64.40625 67.28125 \r\nz\r\n\" id=\"DejaVuSans-67\"/>\r\n       <path d=\"M 54.890625 33.015625 \r\nL 54.890625 0 \r\nL 45.90625 0 \r\nL 45.90625 32.71875 \r\nQ 45.90625 40.484375 42.875 44.328125 \r\nQ 39.84375 48.1875 33.796875 48.1875 \r\nQ 26.515625 48.1875 22.3125 43.546875 \r\nQ 18.109375 38.921875 18.109375 30.90625 \r\nL 18.109375 0 \r\nL 9.078125 0 \r\nL 9.078125 54.6875 \r\nL 18.109375 54.6875 \r\nL 18.109375 46.1875 \r\nQ 21.34375 51.125 25.703125 53.5625 \r\nQ 30.078125 56 35.796875 56 \r\nQ 45.21875 56 50.046875 50.171875 \r\nQ 54.890625 44.34375 54.890625 33.015625 \r\nz\r\n\" id=\"DejaVuSans-110\"/>\r\n       <path d=\"M 2.984375 54.6875 \r\nL 12.5 54.6875 \r\nL 29.59375 8.796875 \r\nL 46.6875 54.6875 \r\nL 56.203125 54.6875 \r\nL 35.6875 0 \r\nL 23.484375 0 \r\nz\r\n\" id=\"DejaVuSans-118\"/>\r\n       <path d=\"M 56.203125 29.59375 \r\nL 56.203125 25.203125 \r\nL 14.890625 25.203125 \r\nQ 15.484375 15.921875 20.484375 11.0625 \r\nQ 25.484375 6.203125 34.421875 6.203125 \r\nQ 39.59375 6.203125 44.453125 7.46875 \r\nQ 49.3125 8.734375 54.109375 11.28125 \r\nL 54.109375 2.78125 \r\nQ 49.265625 0.734375 44.1875 -0.34375 \r\nQ 39.109375 -1.421875 33.890625 -1.421875 \r\nQ 20.796875 -1.421875 13.15625 6.1875 \r\nQ 5.515625 13.8125 5.515625 26.8125 \r\nQ 5.515625 40.234375 12.765625 48.109375 \r\nQ 20.015625 56 32.328125 56 \r\nQ 43.359375 56 49.78125 48.890625 \r\nQ 56.203125 41.796875 56.203125 29.59375 \r\nz\r\nM 47.21875 32.234375 \r\nQ 47.125 39.59375 43.09375 43.984375 \r\nQ 39.0625 48.390625 32.421875 48.390625 \r\nQ 24.90625 48.390625 20.390625 44.140625 \r\nQ 15.875 39.890625 15.1875 32.171875 \r\nz\r\n\" id=\"DejaVuSans-101\"/>\r\n       <path d=\"M 18.3125 70.21875 \r\nL 18.3125 54.6875 \r\nL 36.8125 54.6875 \r\nL 36.8125 47.703125 \r\nL 18.3125 47.703125 \r\nL 18.3125 18.015625 \r\nQ 18.3125 11.328125 20.140625 9.421875 \r\nQ 21.96875 7.515625 27.59375 7.515625 \r\nL 36.8125 7.515625 \r\nL 36.8125 0 \r\nL 27.59375 0 \r\nQ 17.1875 0 13.234375 3.875 \r\nQ 9.28125 7.765625 9.28125 18.015625 \r\nL 9.28125 47.703125 \r\nL 2.6875 47.703125 \r\nL 2.6875 54.6875 \r\nL 9.28125 54.6875 \r\nL 9.28125 70.21875 \r\nz\r\n\" id=\"DejaVuSans-116\"/>\r\n       <path d=\"M 45.40625 46.390625 \r\nL 45.40625 75.984375 \r\nL 54.390625 75.984375 \r\nL 54.390625 0 \r\nL 45.40625 0 \r\nL 45.40625 8.203125 \r\nQ 42.578125 3.328125 38.25 0.953125 \r\nQ 33.9375 -1.421875 27.875 -1.421875 \r\nQ 17.96875 -1.421875 11.734375 6.484375 \r\nQ 5.515625 14.40625 5.515625 27.296875 \r\nQ 5.515625 40.1875 11.734375 48.09375 \r\nQ 17.96875 56 27.875 56 \r\nQ 33.9375 56 38.25 53.625 \r\nQ 42.578125 51.265625 45.40625 46.390625 \r\nz\r\nM 14.796875 27.296875 \r\nQ 14.796875 17.390625 18.875 11.75 \r\nQ 22.953125 6.109375 30.078125 6.109375 \r\nQ 37.203125 6.109375 41.296875 11.75 \r\nQ 45.40625 17.390625 45.40625 27.296875 \r\nQ 45.40625 37.203125 41.296875 42.84375 \r\nQ 37.203125 48.484375 30.078125 48.484375 \r\nQ 22.953125 48.484375 18.875 42.84375 \r\nQ 14.796875 37.203125 14.796875 27.296875 \r\nz\r\n\" id=\"DejaVuSans-100\"/>\r\n       <path id=\"DejaVuSans-32\"/>\r\n       <path d=\"M 31 75.875 \r\nQ 24.46875 64.65625 21.28125 53.65625 \r\nQ 18.109375 42.671875 18.109375 31.390625 \r\nQ 18.109375 20.125 21.3125 9.0625 \r\nQ 24.515625 -2 31 -13.1875 \r\nL 23.1875 -13.1875 \r\nQ 15.875 -1.703125 12.234375 9.375 \r\nQ 8.59375 20.453125 8.59375 31.390625 \r\nQ 8.59375 42.28125 12.203125 53.3125 \r\nQ 15.828125 64.359375 23.1875 75.875 \r\nz\r\n\" id=\"DejaVuSans-40\"/>\r\n       <path d=\"M 9.421875 54.6875 \r\nL 18.40625 54.6875 \r\nL 18.40625 0 \r\nL 9.421875 0 \r\nz\r\nM 9.421875 75.984375 \r\nL 18.40625 75.984375 \r\nL 18.40625 64.59375 \r\nL 9.421875 64.59375 \r\nz\r\n\" id=\"DejaVuSans-105\"/>\r\n       <path d=\"M 8.015625 75.875 \r\nL 15.828125 75.875 \r\nQ 23.140625 64.359375 26.78125 53.3125 \r\nQ 30.421875 42.28125 30.421875 31.390625 \r\nQ 30.421875 20.453125 26.78125 9.375 \r\nQ 23.140625 -1.703125 15.828125 -13.1875 \r\nL 8.015625 -13.1875 \r\nQ 14.5 -2 17.703125 9.0625 \r\nQ 20.90625 20.125 20.90625 31.390625 \r\nQ 20.90625 42.671875 17.703125 53.65625 \r\nQ 14.5 64.65625 8.015625 75.875 \r\nz\r\n\" id=\"DejaVuSans-41\"/>\r\n      </defs>\r\n      <use xlink:href=\"#DejaVuSans-67\"/>\r\n      <use x=\"69.824219\" xlink:href=\"#DejaVuSans-111\"/>\r\n      <use x=\"131.005859\" xlink:href=\"#DejaVuSans-110\"/>\r\n      <use x=\"194.384766\" xlink:href=\"#DejaVuSans-118\"/>\r\n      <use x=\"253.564453\" xlink:href=\"#DejaVuSans-101\"/>\r\n      <use x=\"315.087891\" xlink:href=\"#DejaVuSans-114\"/>\r\n      <use x=\"356.201172\" xlink:href=\"#DejaVuSans-116\"/>\r\n      <use x=\"395.410156\" xlink:href=\"#DejaVuSans-101\"/>\r\n      <use x=\"456.933594\" xlink:href=\"#DejaVuSans-100\"/>\r\n      <use x=\"520.410156\" xlink:href=\"#DejaVuSans-32\"/>\r\n      <use x=\"552.197266\" xlink:href=\"#DejaVuSans-40\"/>\r\n      <use x=\"591.210938\" xlink:href=\"#DejaVuSans-112\"/>\r\n      <use x=\"654.6875\" xlink:href=\"#DejaVuSans-114\"/>\r\n      <use x=\"693.550781\" xlink:href=\"#DejaVuSans-111\"/>\r\n      <use x=\"754.732422\" xlink:href=\"#DejaVuSans-112\"/>\r\n      <use x=\"818.208984\" xlink:href=\"#DejaVuSans-111\"/>\r\n      <use x=\"879.390625\" xlink:href=\"#DejaVuSans-114\"/>\r\n      <use x=\"920.503906\" xlink:href=\"#DejaVuSans-116\"/>\r\n      <use x=\"959.712891\" xlink:href=\"#DejaVuSans-105\"/>\r\n      <use x=\"987.496094\" xlink:href=\"#DejaVuSans-111\"/>\r\n      <use x=\"1048.677734\" xlink:href=\"#DejaVuSans-110\"/>\r\n      <use x=\"1112.056641\" xlink:href=\"#DejaVuSans-41\"/>\r\n     </g>\r\n    </g>\r\n   </g>\r\n   <g id=\"patch_3\">\r\n    <path clip-path=\"url(#p455ec76770)\" d=\"M 96.11 366.125375 \r\nL 274.67 366.125375 \r\nL 274.67 134.020649 \r\nL 96.11 134.020649 \r\nz\r\n\" style=\"fill:#3274a1;\"/>\r\n   </g>\r\n   <g id=\"patch_4\">\r\n    <path clip-path=\"url(#p455ec76770)\" d=\"M 319.31 366.125375 \r\nL 497.87 366.125375 \r\nL 497.87 134.501197 \r\nL 319.31 134.501197 \r\nz\r\n\" style=\"fill:#e1812c;\"/>\r\n   </g>\r\n   <g id=\"line2d_21\">\r\n    <path clip-path=\"url(#p455ec76770)\" d=\"M 185.39 134.260923 \r\nL 185.39 134.260923 \r\n\" style=\"fill:none;stroke:#424242;stroke-linecap:round;stroke-width:2.7;\"/>\r\n   </g>\r\n   <g id=\"line2d_22\">\r\n    <path clip-path=\"url(#p455ec76770)\" d=\"M 408.59 134.140786 \r\nL 408.59 134.140786 \r\n\" style=\"fill:none;stroke:#424242;stroke-linecap:round;stroke-width:2.7;\"/>\r\n   </g>\r\n   <g id=\"patch_5\">\r\n    <path d=\"M 73.79 366.125375 \r\nL 73.79 39.965375 \r\n\" style=\"fill:none;stroke:#cccccc;stroke-linecap:square;stroke-linejoin:miter;\"/>\r\n   </g>\r\n   <g id=\"patch_6\">\r\n    <path d=\"M 520.19 366.125375 \r\nL 520.19 39.965375 \r\n\" style=\"fill:none;stroke:#cccccc;stroke-linecap:square;stroke-linejoin:miter;\"/>\r\n   </g>\r\n   <g id=\"patch_7\">\r\n    <path d=\"M 73.79 366.125375 \r\nL 520.19 366.125375 \r\n\" style=\"fill:none;stroke:#cccccc;stroke-linecap:square;stroke-linejoin:miter;\"/>\r\n   </g>\r\n   <g id=\"patch_8\">\r\n    <path d=\"M 73.79 39.965375 \r\nL 520.19 39.965375 \r\n\" style=\"fill:none;stroke:#cccccc;stroke-linecap:square;stroke-linejoin:miter;\"/>\r\n   </g>\r\n   <g id=\"text_14\">\r\n    <!-- Conversion rate by group -->\r\n    <g style=\"fill:#262626;\" transform=\"translate(190.12625 19.965375)scale(0.168 -0.168)\">\r\n     <defs>\r\n      <path d=\"M 44.28125 53.078125 \r\nL 44.28125 44.578125 \r\nQ 40.484375 46.53125 36.375 47.5 \r\nQ 32.28125 48.484375 27.875 48.484375 \r\nQ 21.1875 48.484375 17.84375 46.4375 \r\nQ 14.5 44.390625 14.5 40.28125 \r\nQ 14.5 37.15625 16.890625 35.375 \r\nQ 19.28125 33.59375 26.515625 31.984375 \r\nL 29.59375 31.296875 \r\nQ 39.15625 29.25 43.1875 25.515625 \r\nQ 47.21875 21.78125 47.21875 15.09375 \r\nQ 47.21875 7.46875 41.1875 3.015625 \r\nQ 35.15625 -1.421875 24.609375 -1.421875 \r\nQ 20.21875 -1.421875 15.453125 -0.5625 \r\nQ 10.6875 0.296875 5.421875 2 \r\nL 5.421875 11.28125 \r\nQ 10.40625 8.6875 15.234375 7.390625 \r\nQ 20.0625 6.109375 24.8125 6.109375 \r\nQ 31.15625 6.109375 34.5625 8.28125 \r\nQ 37.984375 10.453125 37.984375 14.40625 \r\nQ 37.984375 18.0625 35.515625 20.015625 \r\nQ 33.0625 21.96875 24.703125 23.78125 \r\nL 21.578125 24.515625 \r\nQ 13.234375 26.265625 9.515625 29.90625 \r\nQ 5.8125 33.546875 5.8125 39.890625 \r\nQ 5.8125 47.609375 11.28125 51.796875 \r\nQ 16.75 56 26.8125 56 \r\nQ 31.78125 56 36.171875 55.265625 \r\nQ 40.578125 54.546875 44.28125 53.078125 \r\nz\r\n\" id=\"DejaVuSans-115\"/>\r\n      <path d=\"M 34.28125 27.484375 \r\nQ 23.390625 27.484375 19.1875 25 \r\nQ 14.984375 22.515625 14.984375 16.5 \r\nQ 14.984375 11.71875 18.140625 8.90625 \r\nQ 21.296875 6.109375 26.703125 6.109375 \r\nQ 34.1875 6.109375 38.703125 11.40625 \r\nQ 43.21875 16.703125 43.21875 25.484375 \r\nL 43.21875 27.484375 \r\nz\r\nM 52.203125 31.203125 \r\nL 52.203125 0 \r\nL 43.21875 0 \r\nL 43.21875 8.296875 \r\nQ 40.140625 3.328125 35.546875 0.953125 \r\nQ 30.953125 -1.421875 24.3125 -1.421875 \r\nQ 15.921875 -1.421875 10.953125 3.296875 \r\nQ 6 8.015625 6 15.921875 \r\nQ 6 25.140625 12.171875 29.828125 \r\nQ 18.359375 34.515625 30.609375 34.515625 \r\nL 43.21875 34.515625 \r\nL 43.21875 35.40625 \r\nQ 43.21875 41.609375 39.140625 45 \r\nQ 35.0625 48.390625 27.6875 48.390625 \r\nQ 23 48.390625 18.546875 47.265625 \r\nQ 14.109375 46.140625 10.015625 43.890625 \r\nL 10.015625 52.203125 \r\nQ 14.9375 54.109375 19.578125 55.046875 \r\nQ 24.21875 56 28.609375 56 \r\nQ 40.484375 56 46.34375 49.84375 \r\nQ 52.203125 43.703125 52.203125 31.203125 \r\nz\r\n\" id=\"DejaVuSans-97\"/>\r\n      <path d=\"M 48.6875 27.296875 \r\nQ 48.6875 37.203125 44.609375 42.84375 \r\nQ 40.53125 48.484375 33.40625 48.484375 \r\nQ 26.265625 48.484375 22.1875 42.84375 \r\nQ 18.109375 37.203125 18.109375 27.296875 \r\nQ 18.109375 17.390625 22.1875 11.75 \r\nQ 26.265625 6.109375 33.40625 6.109375 \r\nQ 40.53125 6.109375 44.609375 11.75 \r\nQ 48.6875 17.390625 48.6875 27.296875 \r\nz\r\nM 18.109375 46.390625 \r\nQ 20.953125 51.265625 25.265625 53.625 \r\nQ 29.59375 56 35.59375 56 \r\nQ 45.5625 56 51.78125 48.09375 \r\nQ 58.015625 40.1875 58.015625 27.296875 \r\nQ 58.015625 14.40625 51.78125 6.484375 \r\nQ 45.5625 -1.421875 35.59375 -1.421875 \r\nQ 29.59375 -1.421875 25.265625 0.953125 \r\nQ 20.953125 3.328125 18.109375 8.203125 \r\nL 18.109375 0 \r\nL 9.078125 0 \r\nL 9.078125 75.984375 \r\nL 18.109375 75.984375 \r\nz\r\n\" id=\"DejaVuSans-98\"/>\r\n      <path d=\"M 32.171875 -5.078125 \r\nQ 28.375 -14.84375 24.75 -17.8125 \r\nQ 21.140625 -20.796875 15.09375 -20.796875 \r\nL 7.90625 -20.796875 \r\nL 7.90625 -13.28125 \r\nL 13.1875 -13.28125 \r\nQ 16.890625 -13.28125 18.9375 -11.515625 \r\nQ 21 -9.765625 23.484375 -3.21875 \r\nL 25.09375 0.875 \r\nL 2.984375 54.6875 \r\nL 12.5 54.6875 \r\nL 29.59375 11.921875 \r\nL 46.6875 54.6875 \r\nL 56.203125 54.6875 \r\nz\r\n\" id=\"DejaVuSans-121\"/>\r\n      <path d=\"M 45.40625 27.984375 \r\nQ 45.40625 37.75 41.375 43.109375 \r\nQ 37.359375 48.484375 30.078125 48.484375 \r\nQ 22.859375 48.484375 18.828125 43.109375 \r\nQ 14.796875 37.75 14.796875 27.984375 \r\nQ 14.796875 18.265625 18.828125 12.890625 \r\nQ 22.859375 7.515625 30.078125 7.515625 \r\nQ 37.359375 7.515625 41.375 12.890625 \r\nQ 45.40625 18.265625 45.40625 27.984375 \r\nz\r\nM 54.390625 6.78125 \r\nQ 54.390625 -7.171875 48.1875 -13.984375 \r\nQ 42 -20.796875 29.203125 -20.796875 \r\nQ 24.46875 -20.796875 20.265625 -20.09375 \r\nQ 16.0625 -19.390625 12.109375 -17.921875 \r\nL 12.109375 -9.1875 \r\nQ 16.0625 -11.328125 19.921875 -12.34375 \r\nQ 23.78125 -13.375 27.78125 -13.375 \r\nQ 36.625 -13.375 41.015625 -8.765625 \r\nQ 45.40625 -4.15625 45.40625 5.171875 \r\nL 45.40625 9.625 \r\nQ 42.625 4.78125 38.28125 2.390625 \r\nQ 33.9375 0 27.875 0 \r\nQ 17.828125 0 11.671875 7.65625 \r\nQ 5.515625 15.328125 5.515625 27.984375 \r\nQ 5.515625 40.671875 11.671875 48.328125 \r\nQ 17.828125 56 27.875 56 \r\nQ 33.9375 56 38.28125 53.609375 \r\nQ 42.625 51.21875 45.40625 46.390625 \r\nL 45.40625 54.6875 \r\nL 54.390625 54.6875 \r\nz\r\n\" id=\"DejaVuSans-103\"/>\r\n     </defs>\r\n     <use xlink:href=\"#DejaVuSans-67\"/>\r\n     <use x=\"69.824219\" xlink:href=\"#DejaVuSans-111\"/>\r\n     <use x=\"131.005859\" xlink:href=\"#DejaVuSans-110\"/>\r\n     <use x=\"194.384766\" xlink:href=\"#DejaVuSans-118\"/>\r\n     <use x=\"253.564453\" xlink:href=\"#DejaVuSans-101\"/>\r\n     <use x=\"315.087891\" xlink:href=\"#DejaVuSans-114\"/>\r\n     <use x=\"356.201172\" xlink:href=\"#DejaVuSans-115\"/>\r\n     <use x=\"408.300781\" xlink:href=\"#DejaVuSans-105\"/>\r\n     <use x=\"436.083984\" xlink:href=\"#DejaVuSans-111\"/>\r\n     <use x=\"497.265625\" xlink:href=\"#DejaVuSans-110\"/>\r\n     <use x=\"560.644531\" xlink:href=\"#DejaVuSans-32\"/>\r\n     <use x=\"592.431641\" xlink:href=\"#DejaVuSans-114\"/>\r\n     <use x=\"633.544922\" xlink:href=\"#DejaVuSans-97\"/>\r\n     <use x=\"694.824219\" xlink:href=\"#DejaVuSans-116\"/>\r\n     <use x=\"734.033203\" xlink:href=\"#DejaVuSans-101\"/>\r\n     <use x=\"795.556641\" xlink:href=\"#DejaVuSans-32\"/>\r\n     <use x=\"827.34375\" xlink:href=\"#DejaVuSans-98\"/>\r\n     <use x=\"890.820312\" xlink:href=\"#DejaVuSans-121\"/>\r\n     <use x=\"950\" xlink:href=\"#DejaVuSans-32\"/>\r\n     <use x=\"981.787109\" xlink:href=\"#DejaVuSans-103\"/>\r\n     <use x=\"1045.263672\" xlink:href=\"#DejaVuSans-114\"/>\r\n     <use x=\"1084.126953\" xlink:href=\"#DejaVuSans-111\"/>\r\n     <use x=\"1145.308594\" xlink:href=\"#DejaVuSans-117\"/>\r\n     <use x=\"1208.6875\" xlink:href=\"#DejaVuSans-112\"/>\r\n    </g>\r\n   </g>\r\n  </g>\r\n </g>\r\n <defs>\r\n  <clipPath id=\"p455ec76770\">\r\n   <rect height=\"326.16\" width=\"446.4\" x=\"73.79\" y=\"39.965375\"/>\r\n  </clipPath>\r\n </defs>\r\n</svg>\r\n",
            "image/png": "[encoded data removed]"
          },
          "metadata": {}
        }
      ]
    },
    {
      "cell_type": "code",
      "metadata": {
        "colab": {
          "base_uri": "https://localhost:8080/"
        },
        "id": "3SJ2HsmYEm4M",
        "outputId": "b8dd342b-e929-4668-fd19-9890d47cbf34"
      },
      "source": [
        "#以函數計算z_stat, pval, confidence interval\n",
        "from statsmodels.stats.proportion import proportions_ztest, proportion_confint\n",
        "control_results = ab_test[ab_test['group'] == 'control']['converted']\n",
        "treatment_results = ab_test[ab_test['group'] == 'treatment']['converted']\n",
        "n_con = control_results.count()\n",
        "n_treat = treatment_results.count()\n",
        "successes = [control_results.sum(), treatment_results.sum()]\n",
        "nobs = [n_con, n_treat]\n",
        "\n",
        "z_stat, pval = proportions_ztest(successes, nobs=nobs)\n",
        "(lower_con, lower_treat), (upper_con, upper_treat) = proportion_confint(successes, nobs=nobs, alpha=0.05)\n",
        "\n",
        "print(f'z statistic: {z_stat:.2f}')\n",
        "print(f'p-value: {pval:.3f}')\n",
        "print(f'ci 95% for control group: [{lower_con:.3f}, {upper_con:.3f}]')\n",
        "print(f'ci 95% for treatment group: [{lower_treat:.3f}, {upper_treat:.3f}]')\n",
        "#判讀統計結果"
      ],
      "execution_count": 17,
      "outputs": [
        {
          "output_type": "stream",
          "name": "stdout",
          "text": [
            "z statistic: 0.07\np-value: 0.945\nci 95% for control group: [0.116, 0.126]\nci 95% for treatment group: [0.116, 0.126]\n"
          ]
        }
      ]
    },
    {
      "cell_type": "markdown",
      "metadata": {
        "id": "ckQFAPewwRJL"
      },
      "source": [
        "# 作業：判讀程式最後統計結果，A/B test 是否顯著\n",
        "\n",
        "(0.13, 0.15)\n",
        "\n",
        "在Alpha=0.05的情況下，Z>1.96 或 <-1.96 方代表顯著\n",
        "\n",
        "同時 p 也應小於 0.05\n",
        "\n",
        "因此判斷不顯著"
      ]
    },
    {
      "cell_type": "markdown",
      "metadata": {
        "id": "25S0aik5wjew"
      },
      "source": [
        "# 作業：試以(0.12, 0.11)計算結果是否顯著\n",
        "z statistic: 0.07\n",
        "\n",
        "p-value: 0.945\n",
        "\n",
        "ci 95% for control group: [0.116, 0.126]\n",
        "\n",
        "ci 95% for treatment group: [0.116, 0.126]\n",
        "\n",
        "z 沒有超過正負1.96\n",
        "\n",
        "p 大於 aplha 0.05\n",
        "\n",
        "信賴區間說明 control group 在區間內 0.12 可信\n",
        "\n",
        "treatment group在區間外，0.11 數字不可信"
      ]
    },
    {
      "cell_type": "markdown",
      "metadata": {
        "id": "Sjbijdxtw_3N"
      },
      "source": [
        "# 作業：樣本數是以那些模組/函數算的"
      ]
    },
    {
      "cell_type": "code",
      "metadata": {
        "id": "dEVzDdX6_OCJ"
      },
      "source": [
        "#求樣本大小\n",
        "effect_size = sms.proportion_effectsize(0.13, 0.15)    # Calculating effect size based on our expected rates\n",
        "\n",
        "required_n = sms.NormalIndPower().solve_power(\n",
        "    effect_size, \n",
        "    power=0.8, \n",
        "    alpha=0.05, \n",
        "    ratio=1\n",
        "    )                                                  # Calculating sample size needed\n",
        "\n",
        "required_n = ceil(required_n)                          # Rounding up to next whole number                          \n",
        "\n",
        "print(required_n)"
      ],
      "execution_count": 18,
      "outputs": [
        {
          "output_type": "stream",
          "name": "stdout",
          "text": [
            "4720\n"
          ]
        }
      ]
    }
  ]
}